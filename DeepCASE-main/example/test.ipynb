{
 "cells": [
  {
   "cell_type": "code",
   "execution_count": 57,
   "metadata": {},
   "outputs": [],
   "source": [
    "from sklearn.metrics import classification_report\n",
    "import numpy as np\n",
    "import torch\n",
    "\n",
    "# DeepCASE Imports\n",
    "from deepcase.preprocessing   import Preprocessor\n",
    "from deepcase.context_builder import ContextBuilder\n",
    "import pandas as pd"
   ]
  },
  {
   "cell_type": "code",
   "execution_count": 58,
   "metadata": {},
   "outputs": [],
   "source": [
    "fox_alerts = '../../../datasets/ait_alerts_csv/alerts_csv/fox_alerts.txt'\n",
    "import sys\n",
    "sys.path.append('..')\n",
    "\n",
    "# DeepCASE Imports\n",
    "from deepcase.preprocessing   import Preprocessor\n",
    "from deepcase.context_builder import ContextBuilder\n",
    "from deepcase.interpreter     import Interpreter"
   ]
  },
  {
   "cell_type": "code",
   "execution_count": 59,
   "metadata": {},
   "outputs": [],
   "source": [
    "data = pd.read_csv(fox_alerts, sep=',')\n",
    "data = data.rename(columns = {\"time\":\"timestamp\",\"ip\":\"machine\",\"short\":\"event\",\"time_label\":\"label\"})"
   ]
  },
  {
   "cell_type": "code",
   "execution_count": 60,
   "metadata": {},
   "outputs": [],
   "source": [
    "# Create mapping of events\n",
    "mapping = {\n",
    "    i: event for i, event in enumerate(np.unique(data['event'].values))\n",
    "}\n",
    "\n",
    "# Check that NO_EVENT is not in events\n",
    "# if self.NO_EVENT in mapping.values():\n",
    "#     raise ValueError(\n",
    "#         \"NO_EVENT ('{}') is also a valid Event ID\".format(self.NO_EVENT)\n",
    "#     )\n",
    "\n",
    "mapping[len(mapping)] = -1337\n",
    "mapping_inverse = {v: k for k, v in mapping.items()}\n",
    "# Apply mapping\n",
    "data['event'] = data['event'].map(mapping_inverse)\n",
    "\n",
    "mapping_label = {i: label for i, label in enumerate(np.unique(data['label'].values))}\n",
    "mapping_label_inverse = {v:k for k,v in mapping_label.items()}\n",
    "data['label'] = data['label'].map(mapping_label_inverse)\n",
    "#print(mapping_label_inverse)\n",
    "labels = torch.Tensor(data['label'].values).to(torch.long)\n",
    "\n",
    "index_false_positive = mapping_label_inverse['false_positive']\n",
    "labels_binary = [0 if i==index_false_positive else 1 for i in labels ] # benign or malicious\n",
    "labels_binary = np.array(labels_binary)"
   ]
  },
  {
   "cell_type": "code",
   "execution_count": 61,
   "metadata": {},
   "outputs": [],
   "source": [
    "# Set events as events\n",
    "events = torch.Tensor(data['event'].values).to(torch.long)\n",
    "\n",
    "# Set context full of NO_EVENTs\n",
    "context = torch.full(\n",
    "    size       = (data.shape[0], 10),\n",
    "    fill_value = mapping_inverse[-1337],\n",
    ").to(torch.long)"
   ]
  },
  {
   "cell_type": "code",
   "execution_count": 62,
   "metadata": {},
   "outputs": [
    {
     "data": {
      "text/plain": [
       "torch.Size([473104, 10])"
      ]
     },
     "execution_count": 62,
     "metadata": {},
     "output_type": "execute_result"
    }
   ],
   "source": [
    "context.shape"
   ]
  },
  {
   "cell_type": "code",
   "execution_count": null,
   "metadata": {},
   "outputs": [],
   "source": [
    "# Sort data by timestamp\n",
    "data = data.sort_values(by='timestamp')\n",
    "\n",
    "# Group by machines\n",
    "machine_grouped = data.groupby('machine')"
   ]
  },
  {
   "cell_type": "code",
   "execution_count": null,
   "metadata": {},
   "outputs": [],
   "source": [
    "# Group by machine\n",
    "for machine, events_ in machine_grouped:\n",
    "    # Get indices, timestamps and events\n",
    "    indices    = events_.index.values\n",
    "    timestamps = events_['timestamp'].values\n",
    "    events_    = events_['event'].values\n",
    "\n",
    "    # Initialise context for single machine\n",
    "    machine_context = np.full(\n",
    "        (events_.shape[0], 10),\n",
    "        mapping_inverse[-1337],\n",
    "        dtype = int,\n",
    "    )\n",
    "\n",
    "    # Loop over all parts of the context\n",
    "    for i in range(10):\n",
    "        # Compute time difference between context and event\n",
    "        time_diff = timestamps[i+1:] - timestamps[:-i-1]\n",
    "        # Check if time difference is larger than threshold\n",
    "        timeout_mask = time_diff > 86400\n",
    "\n",
    "        # Set mask to NO_EVENT\n",
    "        machine_context[i+1:, 10-i-1] = np.where(\n",
    "            timeout_mask,\n",
    "            mapping_inverse[-1337],\n",
    "            events_[:-i-1],\n",
    "        )\n",
    "        machine_context[i+1:,10-i-1] = events_[:-i-1]\n",
    "\n",
    "    # Convert to torch Tensor\n",
    "    machine_context = torch.Tensor(machine_context).to(torch.long)\n",
    "    # Add machine_context to context\n",
    "    context[indices] = machine_context\n",
    "\n",
    "    # arrange labels\n",
    "labels_events = context[1:,-1]\n",
    "context = context[:-1,:]\n",
    "labels_binary = labels_binary[1:]"
   ]
  },
  {
   "cell_type": "code",
   "execution_count": null,
   "metadata": {},
   "outputs": [],
   "source": [
    "context.shape"
   ]
  },
  {
   "cell_type": "code",
   "execution_count": null,
   "metadata": {},
   "outputs": [],
   "source": [
    "data.shape"
   ]
  },
  {
   "cell_type": "code",
   "execution_count": null,
   "metadata": {},
   "outputs": [],
   "source": [
    "events_"
   ]
  },
  {
   "cell_type": "code",
   "execution_count": null,
   "metadata": {},
   "outputs": [],
   "source": [
    "if __name__ == \"__main__\":\n",
    "    ########################################################################\n",
    "    #                             Loading data                             #\n",
    "    ########################################################################\n",
    "\n",
    "    # Create preprocessor\n",
    "    preprocessor = Preprocessor(\n",
    "        length  = 10,    # 10 events in context\n",
    "        timeout = 86400, # Ignore events older than 1 day (60*60*24 = 86400 seconds)\n",
    "    )\n",
    "\n",
    "    # Load data from file\n",
    "    context, events, labels, mapping = preprocessor.text(\n",
    "        path    = 'data/hdfs/hdfs_test_normal',\n",
    "        verbose = True,\n",
    "    )\n",
    "\n",
    "    # In case no labels are provided, set labels to -1\n",
    "    # IMPORTANT: If no labels are provided, make sure to manually set the labels\n",
    "    # before calling the interpreter.score_clusters method. Otherwise, this will\n",
    "    # raise an exception, because scores == NO_SCORE cannot be computed.\n",
    "    if labels is None:\n",
    "        labels = np.full(events.shape[0], -1, dtype=int)\n",
    "\n",
    "    # Cast to cuda if available\n",
    "    if torch.cuda.is_available():\n",
    "        events  = events .to('cuda')\n",
    "        context = context.to('cuda')\n"
   ]
  },
  {
   "cell_type": "code",
   "execution_count": null,
   "metadata": {},
   "outputs": [],
   "source": [
    "print(events.shape)\n",
    "print(context.shape)"
   ]
  },
  {
   "cell_type": "code",
   "execution_count": null,
   "metadata": {},
   "outputs": [],
   "source": [
    "labels[0:10]"
   ]
  },
  {
   "cell_type": "code",
   "execution_count": null,
   "metadata": {},
   "outputs": [],
   "source": [
    "context[0:10]"
   ]
  },
  {
   "cell_type": "code",
   "execution_count": null,
   "metadata": {},
   "outputs": [],
   "source": [
    "events[0:10]"
   ]
  },
  {
   "cell_type": "code",
   "execution_count": null,
   "metadata": {},
   "outputs": [],
   "source": [
    "a={'a':1,'b':2}"
   ]
  },
  {
   "cell_type": "code",
   "execution_count": null,
   "metadata": {},
   "outputs": [],
   "source": [
    "a.items()"
   ]
  },
  {
   "cell_type": "code",
   "execution_count": null,
   "metadata": {},
   "outputs": [],
   "source": [
    "b={v:k for k,v in a.items()}\n",
    "b"
   ]
  }
 ],
 "metadata": {
  "kernelspec": {
   "display_name": "Python 3.9.13 ('mytorch')",
   "language": "python",
   "name": "python3"
  },
  "language_info": {
   "codemirror_mode": {
    "name": "ipython",
    "version": 3
   },
   "file_extension": ".py",
   "mimetype": "text/x-python",
   "name": "python",
   "nbconvert_exporter": "python",
   "pygments_lexer": "ipython3",
   "version": "3.9.13"
  },
  "orig_nbformat": 4,
  "vscode": {
   "interpreter": {
    "hash": "56517d50ffc2f6931aa24815f7589ff73dc285470d6e0b1ce709109592ee794e"
   }
  }
 },
 "nbformat": 4,
 "nbformat_minor": 2
}
